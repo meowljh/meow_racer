{
 "cells": [
  {
   "cell_type": "code",
   "execution_count": 1,
   "id": "44bc592f",
   "metadata": {},
   "outputs": [
    {
     "name": "stdout",
     "output_type": "stream",
     "text": [
      "['C:\\\\Program Files (x86)\\\\Eclipse\\\\Sumo\\\\tools', 'c:\\\\Users\\\\7459985\\\\AppData\\\\Local\\\\miniconda3\\\\envs\\\\gym_rl\\\\python312.zip', 'c:\\\\Users\\\\7459985\\\\AppData\\\\Local\\\\miniconda3\\\\envs\\\\gym_rl\\\\DLLs', 'c:\\\\Users\\\\7459985\\\\AppData\\\\Local\\\\miniconda3\\\\envs\\\\gym_rl\\\\Lib', 'c:\\\\Users\\\\7459985\\\\AppData\\\\Local\\\\miniconda3\\\\envs\\\\gym_rl', '', 'C:\\\\Users\\\\7459985\\\\AppData\\\\Roaming\\\\Python\\\\Python312\\\\site-packages', 'c:\\\\Users\\\\7459985\\\\AppData\\\\Local\\\\miniconda3\\\\envs\\\\gym_rl\\\\Lib\\\\site-packages', 'c:\\\\Users\\\\7459985\\\\AppData\\\\Local\\\\miniconda3\\\\envs\\\\gym_rl\\\\Lib\\\\site-packages\\\\win32', 'c:\\\\Users\\\\7459985\\\\AppData\\\\Local\\\\miniconda3\\\\envs\\\\gym_rl\\\\Lib\\\\site-packages\\\\win32\\\\lib', 'c:\\\\Users\\\\7459985\\\\AppData\\\\Local\\\\miniconda3\\\\envs\\\\gym_rl\\\\Lib\\\\site-packages\\\\Pythonwin', 'c:/Users/7459985/Desktop/2025/RDDS/001_code/meow_racer', 'c:/Users/7459985/Desktop/2025/RDDS/001_code/meow_racer/step_1_2_rl_adv', 'c:/Users/7459985/Desktop/2025/RDDS/001_code/meow_racer/step_1_3_rl_multi_critic', '..']\n"
     ]
    }
   ],
   "source": [
    "###code directory setup for analysis###\n",
    "import os, sys\n",
    "\n",
    "STEP_1_3_ROOT = os.getcwd().replace('\\\\', '/')\n",
    "ROOT = os.path.dirname(STEP_1_3_ROOT)\n",
    "STEP_1_2_ROOT = f\"{ROOT}/step_1_2_rl_adv\"\n",
    "\n",
    "sys.path.append(ROOT);sys.path.append(STEP_1_2_ROOT);sys.path.append(STEP_1_3_ROOT)\n",
    "sys.path.append('..')\n",
    "\n",
    "print(sys.path)"
   ]
  },
  {
   "cell_type": "code",
   "execution_count": null,
   "id": "68018b28",
   "metadata": {},
   "outputs": [],
   "source": [
    "import step_1_2_rl_adv.environment as env_lib\n",
    "from step_1_2_rl_adv.environment.racedemia_env_v1 import Racedemia_Env\n",
    "from step_1_2_rl_adv.environment.normalized_env_wrapper import NormalizedObservation #main function에서 environment observation normalizing을 위해서 필요\n"
   ]
  },
  {
   "cell_type": "code",
   "execution_count": 3,
   "id": "e06413ab",
   "metadata": {},
   "outputs": [],
   "source": [
    "from step_1_2_rl_adv.rlkit.torch.networks.mlp import ParallelMlp"
   ]
  },
  {
   "cell_type": "code",
   "execution_count": 4,
   "id": "07b80b26",
   "metadata": {},
   "outputs": [],
   "source": [
    "obs_dim=31\n",
    "style_dim=2\n",
    "action_dim=3\n",
    "num_heads = style_dim\n",
    "output_size_per_mlp=1\n",
    "hidden_sizes=[256,256]\n",
    "\n",
    "input_size = obs_dim + style_dim + action_dim\n",
    "p_mlp = ParallelMlp(            \n",
    "            num_heads,\n",
    "            input_size,\n",
    "            output_size_per_mlp,\n",
    "            hidden_sizes,\n",
    "            hidden_activation='relu',\n",
    "            output_activation='identity',\n",
    "            input_is_already_expanded=False,)"
   ]
  },
  {
   "cell_type": "code",
   "execution_count": 5,
   "id": "e709f0fa",
   "metadata": {},
   "outputs": [
    {
     "name": "stdout",
     "output_type": "stream",
     "text": [
      "Output: torch.Size([32, 1, 2])\n"
     ]
    }
   ],
   "source": [
    "import torch\n",
    "inp = torch.zeros((32, input_size))\n",
    "out = p_mlp(inp)\n",
    "print(f\"Output: {out.shape}\")"
   ]
  },
  {
   "cell_type": "code",
   "execution_count": null,
   "id": "2eacf474",
   "metadata": {},
   "outputs": [],
   "source": [
    "import pickle\n"
   ]
  },
  {
   "cell_type": "code",
   "execution_count": null,
   "id": "84840b25",
   "metadata": {},
   "outputs": [],
   "source": [
    "env = Racedemia_Env()"
   ]
  }
 ],
 "metadata": {
  "kernelspec": {
   "display_name": "gym_rl",
   "language": "python",
   "name": "python3"
  },
  "language_info": {
   "codemirror_mode": {
    "name": "ipython",
    "version": 3
   },
   "file_extension": ".py",
   "mimetype": "text/x-python",
   "name": "python",
   "nbconvert_exporter": "python",
   "pygments_lexer": "ipython3",
   "version": "3.12.8"
  }
 },
 "nbformat": 4,
 "nbformat_minor": 5
}
