{
 "cells": [
  {
   "cell_type": "markdown",
   "id": "c2cac8ab",
   "metadata": {},
   "source": [
    "**(1) SophyAI**\n",
    "1. Progress Reward\n",
    "    - $\\theta_{t}$ - $\\theta_{t-1}$\n",
    "2. Off-Course Penalty\n",
    "    - ($s_{t}$-$s_{t-1})$ $\\times$ $speed^2$\n",
    "    - $s_{t}$는 누적된 '코스를 벗어난 시간'이다. 즉, 위의 차이는 현 time step동안 트랙 밖을 벗어났던 시간을 의미하게 된다.\n",
    "    - corner cutting을 과하게 하는 것을 방지 하기 위해서 추가함.\n",
    "3. Wall Penalty\n",
    "    - ($w_{t}$-$w_{t-1}$) $\\times$ $speed^2$\n",
    "    - $w_{t}$는 누적된 '벽에 접촉한 시간'이다. 즉, 위의 차이는 현 time step동안 벽에 접촉해 있었던 시간을 의미하게 된다.\n",
    "4. Tire Slip Penalty\n",
    "    - $-\\sum_{i=1}^{2}$ $min$(1, |$\\sigma_{i}$|) $\\times$ |$\\alpha_{i}$|\n",
    "\n",
    "- 여기서 $speed$는 kph를 단위로 사용함.\n",
    "- 따라서 m/s를 km/h로 단위 변환을 해 주어야 함.  \n",
    "\n",
    "**(2) Action Mapping**\n",
    "1. Velocity Reward\n",
    "    - $V_{x}$ $\\times$ $cos(\\phi)$  \n",
    "    - $\\phi$는 heading angle로, 차량의 전방의 이동 방향과 트랙의 center line간의 각도를 의미한다.\n",
    "\n",
    "2. Off-Track Penalty\n",
    "    - -100\n",
    "    - 트랙을 벗어나서 주행을 하고 있을 때의 penalty 부여\n",
    "\n",
    "3. Wrong-Direction Penalty\n",
    "    - -100\n",
    "    - $\\phi$ 값이 $-\\pi/2$ 보다 작거나 $\\pi/2$보다 크다면 트랙의 진행 방향과 반대로 이동하고 있는 상황이기 때문에 penalty 부여\n",
    "\n",
    "4. Tire Friction Constraint Penalty\n",
    "    - -100  \n",
    "\n",
    "\n",
    "**(3) Survey Paper**\n",
    "1. Lap Complete Reward\n",
    "    - 1  \n",
    "    - 다른 reward 값으로 지정해도 됨  \n",
    "\n",
    "2. Collision Penalty\n",
    "    - -1  \n",
    "    - 다른 penalty 값으로 지정해도 됨   \n",
    "\n",
    "3. Reward Otherwise\n",
    "    - $\\frac{v_{t}}{v_{max}}$  $cos(\\Phi)$ - $d_{c}$\n",
    "    - $d_{c}$는 state equation으로 계산한 $e_{c}$와 동일한 값이다.\n",
    "    - 여기서 $\\Phi$도 트랙의 heading과 차량의 heading과의 각도의 차이를 나타내는 값이 됨\n",
    "\n",
    "**(4) Formula RL**\n",
    "1. Progress Reward\n",
    "    - $V_{x}$ ($cos(\\theta)$-$sin(\\theta)$-|$distance \\ to \\ track \\ axis$|)\n",
    "    - 여기서 $\\theta$는 위의 (2)에서의 $\\phi$와 동일한 heading angle을 일컫는다.\n",
    "        - 하지만, 만약에 위의 식을 사용함에 있어서 $track \\ axis$를 단순히 트랙의 center line으로 둔다면 이건 **optimal trajectory**가 아니다.\n",
    "        - 따라서 논문에서는 위의 reward를 적용하고자 할 때 다른 Titabot라는 것의 racing line(아마 expert line)으로부터의 거리를 계산하도록 하였음.\n",
    "\n",
    "**(5). Reward Design Paper - Baseline**\n",
    "1. Crash Penalty\n",
    "2. Lap Complete Reward  \n",
    "3. Racing Reward\n",
    "\n",
    "- 아래 reward들은 1, 2는 고정 값으로 유지하면서 Racing Reward에만 변화를 준 값들을 나타낸다.\n",
    "\n",
    "**(5)-1. Distance Based Reward**\n",
    "- $\\beta_{distance}$ $\\times$ $\\frac{s_{t+1}-s_{t}}{s_{total}}$\n",
    "- 이건 Gym의 Race Driving에서 사용했던 reward와 비슷하다.\n",
    "- 전체 트랙의 곡선 길이와 현재 time step의 이동 거리의 비율에 완주 했을 때의 최대 reward를 곱해준다.\n",
    "- Center line과 minimum curvature line을 모두 reference로 고려함.  \n",
    "\n",
    "**(5)-2. Cross-track & Heading(CTH) Reward**\n",
    "- $\\beta_{heading}$ $\\times$ $V_{t}cos(\\theta)$ - $\\beta_{cross-track}$ $d_{c}$\n",
    "- $V_{t}$는 차량의 \"속력\"임. 방향성은 고려하지 않는다는 의미임.\n",
    "- $\\theta$는 heading angle, 즉 reference line과의 heading 각도의 차이를 의미함.\n",
    "- 이때 속도와 직선 오차 거리는 각각 최대 속도와 트랙의 너비로 scaling된 값이다.\n",
    "- 역시나 center line과 minimum curvature line을 모두 reference로 고려함.\n",
    "\n",
    "**5-3. Minimum Steering Reward**\n",
    "- 최소한의 curvature path를 그렸을 때 좋은 race track이다.\n",
    "- -$\\beta_{steering}$ $\\times$ $|\\delta_{ref}|$\n",
    "- $\\delta_{ref}$는 output steering angle을 최대 steering value로 scaling을 한 결과이다\n",
    "\n",
    "**(6) Multi-Policy Paper Reward**\n",
    "1. Racing Reward\n",
    "- $\\rho_{t}^{reward}$ $v_{x}$ + $\\rho_{s}$ $\\Delta$ $s$  \n",
    "- $v_{x}$는 현재 \n",
    "\n",
    "2. Attitude reward\n",
    "- ($cos(\\theta)$ - $sin(|\\theta|)$-$d_{axis}$)) $v_{x}$  \n",
    "\n",
    "3. Collision Penalty\n",
    "- 벽과 부딪혔다면 특정 값으로 penalty 부여  \n",
    "\n",
    "4. Progress Penalty\n",
    "- 일정 속도 이하로 달리는 경우 특정 값으로 penalty 부여"
   ]
  },
  {
   "cell_type": "code",
   "execution_count": null,
   "id": "dbca15fc",
   "metadata": {},
   "outputs": [],
   "source": [
    "import numpy as np\n",
    "import matplotlib.pyplot as plt"
   ]
  },
  {
   "cell_type": "code",
   "execution_count": 16,
   "id": "c2d95cc4",
   "metadata": {},
   "outputs": [
    {
     "name": "stdout",
     "output_type": "stream",
     "text": [
      "defaultdict(<class '__main__.zero_list'>, {})\n"
     ]
    }
   ],
   "source": [
    "from collections import defaultdict\n",
    "class zero_list:\n",
    "    def __init__(self):\n",
    "        super().__init__()\n",
    "        self.arr = [0]\n",
    "    def __call__(self):\n",
    "        return self.arr\n",
    "    def append(self, v):\n",
    "        self.arr.append(v)\n",
    "    \n",
    "a = defaultdict(zero_list)\n",
    "print(a)"
   ]
  },
  {
   "cell_type": "code",
   "execution_count": 17,
   "id": "6d7413e9",
   "metadata": {},
   "outputs": [
    {
     "data": {
      "text/plain": [
       "<__main__.zero_list at 0x255fc818aa0>"
      ]
     },
     "execution_count": 17,
     "metadata": {},
     "output_type": "execute_result"
    }
   ],
   "source": [
    "a['1'].append(3)\n",
    "a['1']"
   ]
  },
  {
   "cell_type": "code",
   "execution_count": 18,
   "id": "605e3445",
   "metadata": {},
   "outputs": [
    {
     "data": {
      "text/plain": [
       "defaultdict(list, {})"
      ]
     },
     "execution_count": 18,
     "metadata": {},
     "output_type": "execute_result"
    }
   ],
   "source": [
    "b=defaultdict(list)\n",
    "b"
   ]
  },
  {
   "cell_type": "code",
   "execution_count": 19,
   "id": "6db6885b",
   "metadata": {},
   "outputs": [
    {
     "data": {
      "text/plain": [
       "[3]"
      ]
     },
     "execution_count": 19,
     "metadata": {},
     "output_type": "execute_result"
    }
   ],
   "source": [
    "b['1'].append(3)\n",
    "b['1']"
   ]
  },
  {
   "cell_type": "code",
   "execution_count": null,
   "id": "8abedfac",
   "metadata": {},
   "outputs": [],
   "source": []
  }
 ],
 "metadata": {
  "kernelspec": {
   "display_name": "gym_rl",
   "language": "python",
   "name": "python3"
  },
  "language_info": {
   "codemirror_mode": {
    "name": "ipython",
    "version": 3
   },
   "file_extension": ".py",
   "mimetype": "text/x-python",
   "name": "python",
   "nbconvert_exporter": "python",
   "pygments_lexer": "ipython3",
   "version": "3.12.8"
  }
 },
 "nbformat": 4,
 "nbformat_minor": 5
}
