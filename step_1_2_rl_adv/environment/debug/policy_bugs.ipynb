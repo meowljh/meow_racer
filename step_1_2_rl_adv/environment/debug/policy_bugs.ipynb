{
 "cells": [
  {
   "cell_type": "code",
   "execution_count": 14,
   "id": "e7d048f9",
   "metadata": {},
   "outputs": [],
   "source": [
    "import os, sys\n",
    "ROOT = r'C:\\Users\\7459985\\Desktop\\2025\\RDDS\\001_code\\meow_racer\\step_1_2_rl_adv\\environment\\debug'.replace('\\\\', '/')\n",
    "sys.path.append(ROOT);sys.path.append(os.path.dirname(ROOT));sys.path.append(os.path.dirname(os.path.dirname(ROOT)))"
   ]
  },
  {
   "cell_type": "code",
   "execution_count": null,
   "id": "f3bef4b0",
   "metadata": {},
   "outputs": [
    {
     "data": {
      "text/plain": [
       "tensor([0.6956])"
      ]
     },
     "execution_count": 13,
     "metadata": {},
     "output_type": "execute_result"
    }
   ],
   "source": [
    "import torch\n",
    "import torch.nn as nn\n",
    "\n",
    "\n",
    "init_w = 1e-3\n",
    "aps_min_w, aps_max_w = 0.5, 1.\n",
    "bps_min_w, bps_max_w = -1., -0.8\n",
    "steer_min_w, steer_max_w = -0.1, 0.1\n",
    "\n",
    "fc_dict = nn.ModuleDict()\n",
    "\n",
    "mean_fc = nn.Linear(256, 1)\n",
    "mean_fc.weight.data.uniform_(-init_w, init_w)\n",
    "mean_fc.bias.data.uniform_(aps_min_w, aps_max_w)\n"
   ]
  },
  {
   "cell_type": "code",
   "execution_count": 4,
   "id": "3e10b0be",
   "metadata": {},
   "outputs": [
    {
     "data": {
      "text/plain": [
       "tensor([0.5651])"
      ]
     },
     "execution_count": 4,
     "metadata": {},
     "output_type": "execute_result"
    }
   ],
   "source": [
    "mean_fc.bias.data"
   ]
  },
  {
   "cell_type": "code",
   "execution_count": 15,
   "id": "280e760a",
   "metadata": {},
   "outputs": [],
   "source": [
    "from rlkit.torch.sac.policies.gaussian_policy import GaussianMixturePolicy"
   ]
  },
  {
   "cell_type": "code",
   "execution_count": null,
   "id": "f9be5a6d",
   "metadata": {},
   "outputs": [],
   "source": []
  }
 ],
 "metadata": {
  "kernelspec": {
   "display_name": "gym_rl",
   "language": "python",
   "name": "python3"
  },
  "language_info": {
   "codemirror_mode": {
    "name": "ipython",
    "version": 3
   },
   "file_extension": ".py",
   "mimetype": "text/x-python",
   "name": "python",
   "nbconvert_exporter": "python",
   "pygments_lexer": "ipython3",
   "version": "3.12.8"
  }
 },
 "nbformat": 4,
 "nbformat_minor": 5
}
